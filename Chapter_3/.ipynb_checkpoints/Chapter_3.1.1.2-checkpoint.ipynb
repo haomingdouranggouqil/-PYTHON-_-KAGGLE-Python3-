{
 "cells": [
  {
   "cell_type": "code",
   "execution_count": 5,
   "metadata": {},
   "outputs": [
    {
     "name": "stdout",
     "output_type": "stream",
     "text": [
      "474\n"
     ]
    }
   ],
   "source": [
    "# 导入pandas并且更名为pd。\n",
    "import pandas as pd\n",
    "# 从互联网读取titanic数据。\n",
    "titanic = pd.read_csv('titanic.txt')\n",
    "\n",
    "# 分离数据特征与预测目标。\n",
    "y = titanic['survived']\n",
    "X = titanic.drop(['row.names', 'name', 'survived'], axis = 1)\n",
    "\n",
    "# 对对缺失数据进行填充。\n",
    "X['age'].fillna(X['age'].mean(), inplace=True)\n",
    "X.fillna('UNKNOWN', inplace=True)\n",
    "\n",
    "# 分割数据，依然采样25%用于测试。\n",
    "from sklearn.model_selection import train_test_split\n",
    "X_train, X_test, y_train, y_test = train_test_split(X, y, test_size=0.25, random_state=33)\n",
    "\n",
    "# 类别型特征向量化。\n",
    "from sklearn.feature_extraction import DictVectorizer\n",
    "vec = DictVectorizer()\n",
    "X_train = vec.fit_transform(X_train.to_dict(orient='record'))\n",
    "X_test = vec.transform(X_test.to_dict(orient='record'))\n",
    "\n",
    "# 输出处理后特征向量的维度。\n",
    "print(len(vec.feature_names_))\n"
   ]
  },
  {
   "cell_type": "code",
   "execution_count": 6,
   "metadata": {},
   "outputs": [
    {
     "data": {
      "text/plain": [
       "0.8389057750759878"
      ]
     },
     "execution_count": 6,
     "metadata": {},
     "output_type": "execute_result"
    }
   ],
   "source": [
    "# 使用决策树模型依靠所有特征进行预测，并作性能评估。\n",
    "from sklearn.tree import DecisionTreeClassifier\n",
    "dt = DecisionTreeClassifier(criterion='entropy')\n",
    "dt.fit(X_train, y_train)\n",
    "dt.score(X_test, y_test)\n"
   ]
  },
  {
   "cell_type": "code",
   "execution_count": 7,
   "metadata": {},
   "outputs": [
    {
     "data": {
      "text/plain": [
       "0.8267477203647416"
      ]
     },
     "execution_count": 7,
     "metadata": {},
     "output_type": "execute_result"
    }
   ],
   "source": [
    "# 从sklearn导入特征筛选器。\n",
    "from sklearn import feature_selection\n",
    "# 筛选前20%的特征，使用相同配置的决策树模型进行预测，并且评估性能。\n",
    "fs = feature_selection.SelectPercentile(feature_selection.chi2, percentile=20)\n",
    "X_train_fs = fs.fit_transform(X_train, y_train)\n",
    "dt.fit(X_train_fs, y_train)\n",
    "X_test_fs = fs.transform(X_test)\n",
    "dt.score(X_test_fs, y_test)\n"
   ]
  },
  {
   "cell_type": "code",
   "execution_count": 12,
   "metadata": {},
   "outputs": [
    {
     "name": "stdout",
     "output_type": "stream",
     "text": [
      "[0.85064229 0.85673884 0.87502849 0.88621154 0.86584999 0.86584999\n",
      " 0.87194137 0.87295659 0.8709365  0.86890086 0.87094168 0.86788563\n",
      " 0.86483995 0.86485031 0.86485031 0.86687558 0.86789081 0.86483995\n",
      " 0.86281467 0.86179426 0.86688076 0.86586553 0.86991091 0.86382472\n",
      " 0.86179944 0.86790635 0.86483995 0.87197244 0.86585517 0.87094686\n",
      " 0.87296695 0.86993163 0.86689112 0.86889568 0.86585517 0.8689164\n",
      " 0.86789081 0.8689164  0.87094168 0.86891122 0.87399254 0.86791153\n",
      " 0.86789599 0.86485549 0.86587071 0.86077903 0.86282503 0.86485031\n",
      " 0.85977416 0.86381954]\n",
      "Optimal number of features 7\n"
     ]
    }
   ],
   "source": [
    "# 通过交叉验证（下一节将详细介绍）的方法，按照固定间隔的百分比筛选特征，并作图展示性能随特征筛选比例的变化。\n",
    "from sklearn.model_selection import cross_val_score\n",
    "import numpy as np\n",
    "\n",
    "percentiles = range(1, 100, 2)\n",
    "results = []\n",
    "\n",
    "for i in percentiles:\n",
    "    fs = feature_selection.SelectPercentile(feature_selection.chi2, percentile = i)\n",
    "    X_train_fs = fs.fit_transform(X_train, y_train)\n",
    "    scores = cross_val_score(dt, X_train_fs, y_train, cv=5)\n",
    "    results = np.append(results, scores.mean())\n",
    "print(results)\n",
    "\n",
    "# 找到提现最佳性能的特征筛选的百分比。\n",
    "opt = np.where(results == results.max())[0]\n",
    "print('Optimal number of features %d' %np.array(percentiles)[opt])\n"
   ]
  },
  {
   "cell_type": "code",
   "execution_count": 10,
   "metadata": {},
   "outputs": [
    {
     "data": {
      "image/png": "[encoded data removed]",
      "text/plain": [
       "<Figure size 432x288 with 1 Axes>"
      ]
     },
     "metadata": {
      "needs_background": "light"
     },
     "output_type": "display_data"
    }
   ],
   "source": [
    "import pylab as pl\n",
    "pl.plot(percentiles, results)\n",
    "pl.xlabel('percentiles of features')\n",
    "pl.ylabel('accuracy')\n",
    "pl.show()\n"
   ]
  },
  {
   "cell_type": "code",
   "execution_count": 11,
   "metadata": {},
   "outputs": [
    {
     "data": {
      "text/plain": [
       "0.8541033434650456"
      ]
     },
     "execution_count": 11,
     "metadata": {},
     "output_type": "execute_result"
    }
   ],
   "source": [
    "# 使用最佳筛选后的特征，利用相同配置的模型在测试集上进行性能评估。\n",
    "from sklearn import feature_selection\n",
    "fs = feature_selection.SelectPercentile(feature_selection.chi2, percentile=7)\n",
    "X_train_fs = fs.fit_transform(X_train, y_train)\n",
    "dt.fit(X_train_fs, y_train)\n",
    "X_test_fs = fs.transform(X_test)\n",
    "dt.score(X_test_fs, y_test)\n"
   ]
  },
  {
   "cell_type": "code",
   "execution_count": null,
   "metadata": {
    "collapsed": true
   },
   "outputs": [],
   "source": []
  }
 ],
 "metadata": {
  "kernelspec": {
   "display_name": "Python 3",
   "language": "python",
   "name": "python3"
  },
  "language_info": {
   "codemirror_mode": {
    "name": "ipython",
    "version": 3
   },
   "file_extension": ".py",
   "mimetype": "text/x-python",
   "name": "python",
   "nbconvert_exporter": "python",
   "pygments_lexer": "ipython3",
   "version": "3.7.6"
  }
 },
 "nbformat": 4,
 "nbformat_minor": 1
}
